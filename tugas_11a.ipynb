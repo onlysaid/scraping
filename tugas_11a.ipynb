{
  "nbformat": 4,
  "nbformat_minor": 0,
  "metadata": {
    "colab": {
      "provenance": [],
      "authorship_tag": "ABX9TyMo//zPCDTW320klR49ZHKD",
      "include_colab_link": true
    },
    "kernelspec": {
      "name": "python3",
      "display_name": "Python 3"
    },
    "language_info": {
      "name": "python"
    }
  },
  "cells": [
    {
      "cell_type": "markdown",
      "metadata": {
        "id": "view-in-github",
        "colab_type": "text"
      },
      "source": [
        "<a href=\"https://colab.research.google.com/github/onlysaid/scraping/blob/main/tugas_11a.ipynb\" target=\"_parent\"><img src=\"https://colab.research.google.com/assets/colab-badge.svg\" alt=\"Open In Colab\"/></a>"
      ]
    },
    {
      "cell_type": "code",
      "execution_count": null,
      "metadata": {
        "id": "YF35ErJb2Iiy"
      },
      "outputs": [],
      "source": [
        "import requests\n",
        "from bs4 import BeautifulSoup\n",
        "import csv\n",
        "csvFile = open('dataset_scrapping.csv', 'w', newline='')\n",
        "csvWriter = csv.writer(csvFile)\n",
        "url = 'https://hirogroup.co.id/brands/eat-drink/'\n",
        "res = requests.get(url) #kirimkan header\n",
        "html = BeautifulSoup(res.text, 'html.parser') #parsing html\n",
        "proyek = []\n",
        "\n",
        "for item in html.find_all(\"img\") :\n",
        "    href = item.get('src')\n",
        "    proyek.append (href)\n",
        "\n",
        "csvWriter.writerow(['All IMG'])\n",
        "for item in proyek:\n",
        "    csvWriter.writerow([item]) #buat baris pada csv"
      ]
    }
  ]
}